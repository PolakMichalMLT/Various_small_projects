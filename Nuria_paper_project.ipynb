{
 "cells": [
  {
   "cell_type": "code",
   "execution_count": 22,
   "metadata": {},
   "outputs": [],
   "source": [
    "import cv2\n",
    "from matplotlib import pyplot as plt\n",
    "import numpy as np\n",
    "import pandas as pd\n",
    "from sklearn import datasets, linear_model\n",
    "import time"
   ]
  },
  {
   "cell_type": "code",
   "execution_count": 14,
   "metadata": {},
   "outputs": [],
   "source": [
    "def Image_processor(path, display):\n",
    "    \n",
    "    #remove color intensity bar\n",
    "    \n",
    "    image = cv2.imread(path)\n",
    "    original = image.copy()\n",
    "    image = image[:,:720,:]\n",
    "    \n",
    "    #compute contours\n",
    "    gray = cv2.cvtColor(image, cv2.COLOR_BGR2GRAY)\n",
    "    blurred = cv2.GaussianBlur(gray, (7, 7), 1)\n",
    "    edged = cv2.Canny(blurred, 100, 150)\n",
    "    (contour_image, cnts, _) = cv2.findContours(edged.copy(), cv2.RETR_EXTERNAL,cv2.CHAIN_APPROX_SIMPLE)\n",
    "    \n",
    "    #display\n",
    "    if(display):\n",
    "        orig = image.copy()\n",
    "\n",
    "        cv2.imshow(\"orig\",original)\n",
    "        cv2.drawContours(orig, cnts, -1, (0, 255, 0), 2)\n",
    "        cv2.imshow(\"orig-with-cont\",orig)\n",
    "        cv2.imshow(\"conturs\", contour_image)\n",
    "        cv2.waitKey(0)\n",
    "        cv2.destroyAllWindows()\n",
    "        \n",
    "    contour_image = np.array(contour_image)\n",
    "    return contour_image"
   ]
  },
  {
   "cell_type": "code",
   "execution_count": 15,
   "metadata": {},
   "outputs": [],
   "source": [
    "im = Image_processor('D:/Data_projects/PhiPSII/June05-02.bmp',True)"
   ]
  },
  {
   "cell_type": "code",
   "execution_count": 16,
   "metadata": {},
   "outputs": [],
   "source": [
    "def Image_separate(image):\n",
    "    \n",
    "    image_dry = image[:,0:309]\n",
    "    image_watered = image[:,410:720]\n",
    "    \n",
    "    return image_dry,image_watered"
   ]
  },
  {
   "cell_type": "code",
   "execution_count": 17,
   "metadata": {},
   "outputs": [],
   "source": [
    "def Image_fit(epsilon, path):\n",
    "        \n",
    "    \n",
    "    contour_image = Image_processor(path, False)\n",
    "    image_dry,image_watered = Image_separate(contour_image)\n",
    "    \n",
    "    dry_distribution = []\n",
    "    watered_distribution = []\n",
    "    \n",
    "    dry_x_indeces, dry_y_indeces = np.where(image_dry>0)\n",
    "    watered_x_indeces, watered_y_indeces = np.where(image_watered > 0)\n",
    "    \n",
    "    dry = pd.DataFrame({'x':dry_x_indeces,'y':dry_y_indeces})\n",
    "    watered = pd.DataFrame({'x':watered_x_indeces,'y':watered_y_indeces})\n",
    "    \n",
    "    for i in range(0,watered_x_indeces.shape[0]):\n",
    "        \n",
    "        x_low = max(0,watered_x_indeces[i]-epsilon)\n",
    "        x_high = min(image_watered.shape[0],watered_x_indeces[i]+epsilon)\n",
    "        y_low = max(0,watered_y_indeces[i]-epsilon)\n",
    "        y_high = min(image_watered.shape[1],watered_y_indeces[i]+epsilon)\n",
    "        \n",
    "        watered_fit_data = watered[(x_low < watered['x']) & (watered['x'] < x_high) & (y_low < watered['y']) & (watered['y'] < y_high)]\n",
    "        \n",
    "        if(watered_fit_data.shape[0]>4):\n",
    "            x = watered_fit_data.x.values\n",
    "            y = watered_fit_data.y.values\n",
    "            x = x.reshape(watered_fit_data.shape[0], 1)\n",
    "            y = y.reshape(watered_fit_data.shape[0], 1)\n",
    "\n",
    "            regr = linear_model.LinearRegression()\n",
    "            regr.fit(x,y)\n",
    "            watered_distribution.append(regr.score(x,y))\n",
    "        \n",
    "    for i in range(0,dry_x_indeces.shape[0]):\n",
    "\n",
    "        x_low = max(0,dry_x_indeces[i]-epsilon)\n",
    "        x_high = min(image_dry.shape[0],dry_x_indeces[i]+epsilon)\n",
    "        y_low = max(0,dry_y_indeces[i]-epsilon)\n",
    "        y_high = min(image_dry.shape[1],dry_y_indeces[i]+epsilon)\n",
    "        \n",
    "        dry_fit_data = dry[(x_low <= dry['x']) & (dry['x'] <= x_high) & (y_low <= dry['y']) & (dry['y'] <= y_high)]\n",
    "          \n",
    "        if(dry_fit_data.shape[0]>7):\n",
    "          \n",
    "            x = dry_fit_data.x.values\n",
    "            y = dry_fit_data.y.values\n",
    "            x = x.reshape(dry_fit_data.shape[0], 1)\n",
    "            y = y.reshape(dry_fit_data.shape[0], 1)\n",
    "\n",
    "            regr = linear_model.LinearRegression()\n",
    "            regr.fit(x,y)\n",
    "            dry_distribution.append(regr.score(x,y))\n",
    "        \n",
    "    return watered_distribution,dry_distribution"
   ]
  },
  {
   "cell_type": "code",
   "execution_count": 18,
   "metadata": {},
   "outputs": [
    {
     "name": "stdout",
     "output_type": "stream",
     "text": [
      "--- 61.445576667785645 seconds ---\n"
     ]
    }
   ],
   "source": [
    "start_time = time.time()\n",
    "dist_water, dist_dry = Image_fit(3,'D:/Data_projects/PhiPSII/June05-02.bmp')\n",
    "print(\"--- %s seconds ---\" % (time.time() - start_time))"
   ]
  },
  {
   "cell_type": "code",
   "execution_count": 19,
   "metadata": {},
   "outputs": [
    {
     "data": {
      "text/plain": [
       "<matplotlib.legend.Legend at 0x1cb3e4d52e8>"
      ]
     },
     "execution_count": 19,
     "metadata": {},
     "output_type": "execute_result"
    },
    {
     "data": {
      "image/png": "[encoded data removed]",
      "text/plain": [
       "<Figure size 432x288 with 1 Axes>"
      ]
     },
     "metadata": {},
     "output_type": "display_data"
    }
   ],
   "source": [
    "plt.hist(dist_water, label = 'water')\n",
    "plt.hist(dist_dry, label = 'dry')\n",
    "plt.legend(loc='upper center', bbox_to_anchor=(0.5, 1.05),ncol=4, fancybox=True, shadow=True, prop={'size': 15})"
   ]
  },
  {
   "cell_type": "code",
   "execution_count": 2,
   "metadata": {},
   "outputs": [
    {
     "data": {
      "text/plain": [
       "4294967296"
      ]
     },
     "execution_count": 2,
     "metadata": {},
     "output_type": "execute_result"
    }
   ],
   "source": [
    "2**32"
   ]
  },
  {
   "cell_type": "code",
   "execution_count": 20,
   "metadata": {},
   "outputs": [
    {
     "data": {
      "text/plain": [
       "<matplotlib.legend.Legend at 0x1cb3e3e5898>"
      ]
     },
     "execution_count": 20,
     "metadata": {},
     "output_type": "execute_result"
    },
    {
     "data": {
      "image/png": "[encoded data removed]",
      "text/plain": [
       "<Figure size 432x288 with 1 Axes>"
      ]
     },
     "metadata": {},
     "output_type": "display_data"
    }
   ],
   "source": [
    "plt.hist(dist_water, label = 'water',density=1)\n",
    "plt.hist(dist_dry, label = 'dry', density=1)\n",
    "plt.legend(loc='upper center', bbox_to_anchor=(0.5, 1.05),ncol=4, fancybox=True, shadow=True, prop={'size': 15})"
   ]
  },
  {
   "cell_type": "code",
   "execution_count": 19,
   "metadata": {},
   "outputs": [],
   "source": [
    "from scipy.stats import ranksums as wilcx \n",
    "from scipy.stats import ttest_ind as ttest"
   ]
  },
  {
   "cell_type": "code",
   "execution_count": 18,
   "metadata": {},
   "outputs": [
    {
     "data": {
      "text/plain": [
       "RanksumsResult(statistic=21.821803494314157, pvalue=1.4406448480017005e-105)"
      ]
     },
     "execution_count": 18,
     "metadata": {},
     "output_type": "execute_result"
    }
   ],
   "source": [
    "wilcx(dist_water,dist_dry)"
   ]
  },
  {
   "cell_type": "code",
   "execution_count": 22,
   "metadata": {},
   "outputs": [
    {
     "data": {
      "text/plain": [
       "Ttest_indResult(statistic=24.487765710225254, pvalue=2.2130334104123008e-131)"
      ]
     },
     "execution_count": 22,
     "metadata": {},
     "output_type": "execute_result"
    }
   ],
   "source": [
    "ttest(dist_water,dist_dry,equal_var=True)"
   ]
  },
  {
   "cell_type": "code",
   "execution_count": 45,
   "metadata": {},
   "outputs": [
    {
     "data": {
      "image/png": "[encoded data removed]",
      "text/plain": [
       "<Figure size 648x432 with 1 Axes>"
      ]
     },
     "metadata": {},
     "output_type": "display_data"
    }
   ],
   "source": [
    "xx = [dist_water,dist_dry]\n",
    "# Create a figure instance\n",
    "fig = plt.figure(1, figsize=(9, 6))\n",
    "\n",
    "# Create an axes instance\n",
    "ax = fig.add_subplot(111)\n",
    "ax.set_xticklabels(['Water', 'Dry'])\n",
    "bp = ax.boxplot(xx,0,'gD')"
   ]
  }
 ],
 "metadata": {
  "kernelspec": {
   "display_name": "Python 3",
   "language": "python",
   "name": "python3"
  },
  "language_info": {
   "codemirror_mode": {
    "name": "ipython",
    "version": 3
   },
   "file_extension": ".py",
   "mimetype": "text/x-python",
   "name": "python",
   "nbconvert_exporter": "python",
   "pygments_lexer": "ipython3",
   "version": "3.6.5"
  }
 },
 "nbformat": 4,
 "nbformat_minor": 2
}
